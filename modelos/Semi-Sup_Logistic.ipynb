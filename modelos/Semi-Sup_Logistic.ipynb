{
 "cells": [
  {
   "cell_type": "markdown",
   "id": "a5373802-287e-42d2-b2e5-142a8c87b3c3",
   "metadata": {},
   "source": [
    "## Clasificación semi-supervisada"
   ]
  },
  {
   "cell_type": "code",
   "execution_count": 1,
   "id": "08c64437-7c9c-428a-8320-f2fff3d778fe",
   "metadata": {},
   "outputs": [],
   "source": [
    "import numpy as np\n",
    "from sklearn.datasets import make_classification\n",
    "from sklearn.model_selection import train_test_split\n",
    "from sklearn.metrics import precision_score\n",
    "from sklearn.linear_model import LogisticRegression\n",
    "\n",
    "import matplotlib.pyplot as plt\n",
    "%matplotlib inline\n",
    "\n",
    "np.random.seed(42)"
   ]
  },
  {
   "cell_type": "code",
   "execution_count": 2,
   "id": "c27fbed0-7545-4404-9b77-04661ff284ee",
   "metadata": {},
   "outputs": [],
   "source": [
    "#import sys\n",
    "#sys.path.append( '../..' )\n",
    "#from utils import labels_train, labels_test"
   ]
  },
  {
   "cell_type": "code",
   "execution_count": 3,
   "id": "ad44f1d7-eb63-470c-a0ac-d6bf25003ff3",
   "metadata": {},
   "outputs": [],
   "source": [
    "# definir conjunto de datos\n",
    "X, y = make_classification (n_samples = 1000, n_features = 2, n_informative = 2, n_redundant = 0, random_state = 1)\n",
    "# dividir en entrenar y probar\n",
    "X_train, X_test, y_train, y_test = train_test_split (X, y, test_size = 0.50, random_state = 1, stratify = y)"
   ]
  },
  {
   "cell_type": "code",
   "execution_count": 4,
   "id": "5ba96b7b-521c-43e3-847a-87093379a9a5",
   "metadata": {},
   "outputs": [],
   "source": [
    "# dividir el tren en etiquetado y sin etiquetar\n",
    "X_train_lab, X_test_unlab, y_train_lab, y_test_unlab = train_test_split (X_train, y_train, test_size = 0.50, random_state = 1, stratify = y_train)"
   ]
  },
  {
   "cell_type": "code",
   "execution_count": 5,
   "id": "a763b59d-d445-4676-ac5d-107af4cbf17a",
   "metadata": {},
   "outputs": [
    {
     "name": "stdout",
     "output_type": "stream",
     "text": [
      "Conjunto de trenes etiquetado: (250, 2) (250,)\n",
      "Conjunto de trenes sin etiqueta: (250, 2) (250,)\n",
      "Conjunto de prueba: (500, 2) (500,)\n"
     ]
    }
   ],
   "source": [
    "print ('Conjunto de trenes etiquetado:', X_train_lab.shape, y_train_lab.shape)\n",
    "print ('Conjunto de trenes sin etiqueta:', X_test_unlab.shape, y_test_unlab.shape)\n",
    "\n",
    "# resumir el tamaño del conjunto de prueba\n",
    "print ('Conjunto de prueba:', X_test.shape, y_test.shape)"
   ]
  },
  {
   "cell_type": "code",
   "execution_count": 6,
   "id": "d6cd49df-9b5e-462c-986f-c557db254026",
   "metadata": {},
   "outputs": [
    {
     "data": {
      "text/plain": [
       "LogisticRegression()"
      ]
     },
     "execution_count": 6,
     "metadata": {},
     "output_type": "execute_result"
    }
   ],
   "source": [
    "# definir modelo\n",
    "model = LogisticRegression()\n",
    "# ajustar el modelo en un conjunto de datos etiquetado\n",
    "model.fit (X_train_lab, y_train_lab)"
   ]
  },
  {
   "cell_type": "code",
   "execution_count": 7,
   "id": "89b5620a-6aea-4938-875c-edaf9d0cc343",
   "metadata": {},
   "outputs": [
    {
     "name": "stdout",
     "output_type": "stream",
     "text": [
      "Precisión: 83.784\n"
     ]
    }
   ],
   "source": [
    "# hacer predicciones en el conjunto de prueba de espera\n",
    "yhat = model.predict (X_test)\n",
    "# calcular el score para el conjunto de prueba\n",
    "score = precision_score (y_test, yhat)\n",
    "# mostrar score\n",
    "print ('Precisión:% .3f'% (score * 100))"
   ]
  }
 ],
 "metadata": {
  "kernelspec": {
   "display_name": "Python 3 (ipykernel)",
   "language": "python",
   "name": "python3"
  },
  "language_info": {
   "codemirror_mode": {
    "name": "ipython",
    "version": 3
   },
   "file_extension": ".py",
   "mimetype": "text/x-python",
   "name": "python",
   "nbconvert_exporter": "python",
   "pygments_lexer": "ipython3",
   "version": "3.8.12"
  }
 },
 "nbformat": 4,
 "nbformat_minor": 5
}
