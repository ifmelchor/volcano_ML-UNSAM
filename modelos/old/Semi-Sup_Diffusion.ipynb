{
 "cells": [
  {
   "cell_type": "markdown",
   "id": "03c5e131-e118-49d6-9fa0-91da673c86c3",
   "metadata": {},
   "source": [
    "## Difusión de etiquetas para aprendizaje semi-supervisado\n",
    "\n",
    "Es importante destacar que el conjunto de datos de entrenamiento proporcionado al ajuste() La función debe incluir ejemplos etiquetados que estén codificados ordinalmente (como es normal) y ejemplos no etiquetados marcados con una etiqueta de -1.\n",
    "A continuación, el modelo determinará una etiqueta para los ejemplos sin etiqueta como parte del ajuste del modelo.\n",
    "Una vez que se ajusta el modelo, las etiquetas estimadas para los datos etiquetados y no etiquetados en el conjunto de datos de entrenamiento están disponibles a través de transducción_"
   ]
  },
  {
   "cell_type": "code",
   "execution_count": 1,
   "id": "fe08e532-2d14-4990-8e81-9feef6efb34f",
   "metadata": {},
   "outputs": [],
   "source": [
    "# evaluar la distribución de etiquetas en el conjunto de datos de aprendizaje semi-supervisado\n",
    "import numpy as np\n",
    "from numpy import concatenate\n",
    "from sklearn.datasets import make_classification\n",
    "from sklearn.model_selection import train_test_split\n",
    "from sklearn.metrics import precision_score\n",
    "from sklearn.semi_supervised import LabelSpreading\n",
    "from sklearn.linear_model import LogisticRegression\n",
    "\n",
    "import matplotlib.pyplot as plt\n",
    "%matplotlib inline\n",
    "\n",
    "np.random.seed(42)"
   ]
  },
  {
   "cell_type": "code",
   "execution_count": 2,
   "id": "febbd085-1912-4181-ab78-76cfc035141b",
   "metadata": {},
   "outputs": [],
   "source": [
    "#import sys\n",
    "#sys.path.append( '../..' )\n",
    "#from utils import labels_train, labels_test"
   ]
  },
  {
   "cell_type": "code",
   "execution_count": 3,
   "id": "b3e8ea1a-517d-46e8-8b02-9cb142b825ee",
   "metadata": {},
   "outputs": [],
   "source": [
    "# definir conjunto de datos\n",
    "X, y = make_classification (n_samples = 1000, n_features = 2, n_informative = 2, n_redundant = 0, random_state = 1)\n",
    "# dividir en entrenar y probar\n",
    "X_train, X_test, y_train, y_test = train_test_split (X, y, test_size = 0.50, random_state = 1, stratify = y)\n",
    "# dividir el tren en etiquetado y sin etiquetar\n",
    "X_train_lab, X_test_unlab, y_train_lab, y_test_unlab = train_test_split (X_train, y_train, test_size = 0.50, random_state = 1, stratify = y_train)\n",
    "# crear la entrada del conjunto de datos de entrenamiento\n",
    "X_train_mixed = concatenate ((X_train_lab, X_test_unlab))\n",
    "# crear nolabel para datos sin etiquetar\n",
    "nolabel = [-1 for _ in range(len(y_test_unlab))]\n",
    "# recombinar etiquetas de conjuntos de datos de entrenamiento\n",
    "y_train_mixed = concatenate ((y_train_lab, nolabel))"
   ]
  },
  {
   "cell_type": "code",
   "execution_count": 4,
   "id": "465e4036-f0d1-4edf-94f9-300cae6d6d38",
   "metadata": {},
   "outputs": [],
   "source": [
    "# definir modelo\n",
    "model = LabelSpreading ()\n",
    "# ajuste del modelo en el conjunto de datos de entrenamiento\n",
    "model.fit (X_train_mixed, y_train_mixed)\n",
    "# hacer predicciones en el conjunto de prueba de espera\n",
    "yhat = model.predict (X_test)"
   ]
  },
  {
   "cell_type": "code",
   "execution_count": 5,
   "id": "4fff0d92-cd41-45df-b092-09bacf87fa0d",
   "metadata": {},
   "outputs": [
    {
     "name": "stdout",
     "output_type": "stream",
     "text": [
      "Precisión: 85.317\n"
     ]
    }
   ],
   "source": [
    "# calcular el score para el conjunto de prueba\n",
    "score = precision_score (y_test, yhat)\n",
    "# mostrar score\n",
    "print ('Precisión:% .3f'% (score * 100))"
   ]
  },
  {
   "cell_type": "code",
   "execution_count": 6,
   "id": "1238847e-4e62-42d0-ac42-73cc1fc328cf",
   "metadata": {},
   "outputs": [],
   "source": [
    "# obtener etiquetas para todo el conjunto de datos de entrenamiento\n",
    "tran_labels = model.transduction_"
   ]
  },
  {
   "cell_type": "code",
   "execution_count": 7,
   "id": "e26bd927-dd61-4421-b429-22d114bd445e",
   "metadata": {},
   "outputs": [
    {
     "data": {
      "text/plain": [
       "array([0, 0, 1, 1, 0, 1, 1, 0, 0, 1, 1, 1, 0, 0, 0, 1, 0, 0, 0, 0, 0, 0,\n",
       "       0, 0, 0, 1, 0, 1, 1, 1, 0, 1, 0, 1, 0, 1, 0, 0, 1, 1, 1, 1, 1, 0,\n",
       "       0, 0, 0, 1, 1, 0, 1, 1, 1, 1, 1, 1, 0, 1, 0, 1, 0, 0, 1, 0, 0, 0,\n",
       "       0, 1, 1, 0, 1, 0, 1, 1, 0, 1, 1, 0, 1, 0, 1, 0, 0, 0, 1, 1, 0, 1,\n",
       "       0, 1, 1, 1, 0, 0, 0, 1, 1, 1, 0, 0, 1, 1, 1, 1, 0, 0, 1, 1, 0, 1,\n",
       "       0, 1, 1, 1, 1, 1, 0, 1, 0, 0, 1, 0, 1, 0, 0, 0, 0, 0, 0, 0, 0, 1,\n",
       "       1, 1, 0, 0, 1, 1, 0, 0, 1, 1, 0, 0, 0, 0, 1, 0, 1, 0, 0, 0, 0, 0,\n",
       "       1, 1, 0, 1, 1, 0, 0, 0, 1, 1, 0, 1, 1, 1, 0, 1, 0, 1, 0, 1, 1, 0,\n",
       "       0, 1, 1, 0, 1, 0, 1, 0, 1, 1, 1, 1, 1, 1, 0, 0, 0, 1, 1, 0, 0, 1,\n",
       "       1, 1, 1, 1, 0, 0, 1, 0, 0, 1, 0, 1, 0, 1, 1, 0, 1, 1, 0, 1, 1, 0,\n",
       "       0, 1, 0, 1, 1, 0, 1, 1, 0, 1, 1, 1, 0, 0, 0, 1, 0, 0, 1, 1, 0, 0,\n",
       "       0, 0, 0, 0, 1, 0, 0, 1, 1, 0, 0, 1, 0, 0, 1, 1, 1, 1, 0, 1, 1, 0,\n",
       "       1, 1, 0, 1, 0, 1, 1, 1, 0, 1, 1, 0, 1, 1, 1, 1, 0, 1, 1, 0, 0, 1,\n",
       "       0, 0, 0, 0, 0, 0, 1, 1, 0, 1, 0, 1, 0, 1, 0, 0, 1, 0, 0, 1, 0, 1,\n",
       "       1, 1, 1, 0, 0, 0, 1, 1, 1, 1, 1, 1, 1, 0, 1, 1, 1, 0, 0, 0, 0, 0,\n",
       "       1, 0, 0, 1, 1, 1, 1, 0, 0, 1, 1, 1, 1, 0, 0, 1, 0, 0, 0, 0, 1, 0,\n",
       "       0, 0, 0, 1, 0, 0, 0, 0, 1, 1, 1, 1, 0, 1, 1, 0, 1, 1, 0, 0, 1, 0,\n",
       "       0, 0, 0, 0, 0, 0, 0, 0, 0, 0, 0, 1, 0, 0, 0, 1, 1, 1, 1, 0, 1, 1,\n",
       "       1, 0, 0, 1, 1, 1, 1, 1, 0, 1, 1, 1, 0, 0, 0, 1, 0, 1, 0, 0, 1, 1,\n",
       "       1, 1, 1, 0, 0, 1, 0, 1, 0, 0, 1, 1, 1, 1, 1, 1, 0, 0, 0, 0, 1, 1,\n",
       "       1, 0, 0, 0, 1, 1, 0, 0, 1, 0, 1, 1, 1, 0, 1, 0, 1, 0, 0, 1, 1, 0,\n",
       "       0, 1, 1, 0, 0, 0, 0, 0, 0, 1, 1, 0, 1, 0, 1, 0, 0, 0, 0, 1, 1, 0,\n",
       "       1, 0, 1, 0, 0, 1, 1, 1, 1, 1, 0, 0, 1, 1, 0, 0])"
      ]
     },
     "execution_count": 7,
     "metadata": {},
     "output_type": "execute_result"
    }
   ],
   "source": [
    "tran_labels"
   ]
  },
  {
   "cell_type": "markdown",
   "id": "70f9ebea-84fb-4957-8a42-19adf9d03f34",
   "metadata": {},
   "source": [
    "Luego, podemos usar estas etiquetas, junto con todos los datos de entrada, para entrenar y evaluar un algoritmo de aprendizaje supervisado, como un modelo de regresión logística."
   ]
  },
  {
   "cell_type": "code",
   "execution_count": 8,
   "id": "da2c3c4c-eb6b-45f2-aab1-dccf5d274598",
   "metadata": {},
   "outputs": [
    {
     "name": "stdout",
     "output_type": "stream",
     "text": [
      "Precisión: 83.582\n"
     ]
    }
   ],
   "source": [
    "# definir el modelo de aprendizaje supervisado\n",
    "model2 = LogisticRegression()\n",
    "# ajuste del modelo de aprendizaje supervisado en todo el conjunto de datos de entrenamiento\n",
    "model2.fit (X_train_mixed, tran_labels)\n",
    "# hacer predicciones en el conjunto de prueba de espera\n",
    "yhat = model2.predict (X_test)\n",
    "# calcular la puntuación para el conjunto de prueba\n",
    "score = precision_score (y_test, yhat)\n",
    "# mostrar score\n",
    "print ('Precisión:% .3f'% (score * 100))"
   ]
  },
  {
   "cell_type": "code",
   "execution_count": null,
   "id": "229ca30a-43ea-4149-ba25-45445503d628",
   "metadata": {},
   "outputs": [],
   "source": []
  }
 ],
 "metadata": {
  "kernelspec": {
   "display_name": "Python 3 (ipykernel)",
   "language": "python",
   "name": "python3"
  },
  "language_info": {
   "codemirror_mode": {
    "name": "ipython",
    "version": 3
   },
   "file_extension": ".py",
   "mimetype": "text/x-python",
   "name": "python",
   "nbconvert_exporter": "python",
   "pygments_lexer": "ipython3",
   "version": "3.8.12"
  }
 },
 "nbformat": 4,
 "nbformat_minor": 5
}
