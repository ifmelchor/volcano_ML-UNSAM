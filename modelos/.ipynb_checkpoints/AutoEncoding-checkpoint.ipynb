{
 "cells": [
  {
   "cell_type": "code",
   "execution_count": null,
   "metadata": {},
   "outputs": [],
   "source": [
    "import os, sys\n",
    "import datetime\n",
    "import numpy as np\n",
    "import matplotlib.pyplot as plt\n",
    "\n",
    "from sklearn.metrics import log_loss\n",
    "import tensorflow as tf\n",
    "from tensorflow import keras\n",
    "\n",
    "sys.path.append( '..' )\n",
    "from utils import LP_PSDs\n",
    "%load_ext tensorboard"
   ]
  },
  {
   "cell_type": "code",
   "execution_count": null,
   "metadata": {},
   "outputs": [],
   "source": [
    "train, test = LP_PSDs(test_size=0.3)\n",
    "PSD_length = train.shape[1]\n",
    "# hiperparametros\n",
    "encoding_dim = 18 \n",
    "compresion_factor = PSD_length/encoding_dim"
   ]
  },
  {
   "cell_type": "code",
   "execution_count": null,
   "metadata": {},
   "outputs": [],
   "source": [
    "input_img = keras.layers.Input(shape=(PSD_length,))\n",
    "encoded = keras.layers.Dense(encoding_dim, activation='relu')(input_img)\n",
    "decoded = keras.layers.Dense(PSD_length, activation='sigmoid')(encoded)\n",
    "AE = keras.models.Model(input_img, decoded)\n",
    "keras.utils.plot_model(AE, show_shapes=True)"
   ]
  },
  {
   "cell_type": "code",
   "execution_count": null,
   "metadata": {},
   "outputs": [],
   "source": [
    "AE.compile(optimizer='adam', loss='binary_crossentropy')\n",
    "\n",
    "logdir = os.path.join(\"logs\", datetime.datetime.now().strftime(\"%Y%m%d-%H%M%S\"))\n",
    "tensorboard_callback = tf.keras.callbacks.TensorBoard(logdir, histogram_freq=1)\n",
    "%tensorboard --logdir logs\n",
    "\n",
    "history = AE.fit(train, train,\n",
    "                epochs=50,\n",
    "                batch_size=256,\n",
    "                shuffle=True,\n",
    "                validation_data=(test, test),\n",
    "                callbacks=[tensorboard_callback]\n",
    "                )"
   ]
  }
 ],
 "metadata": {
  "language_info": {
   "name": "python"
  },
  "orig_nbformat": 4
 },
 "nbformat": 4,
 "nbformat_minor": 2
}
