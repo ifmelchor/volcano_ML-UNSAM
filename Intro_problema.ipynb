{
 "cells": [
  {
   "cell_type": "markdown",
   "metadata": {},
   "source": [
    "# Explorando la base de datos del grupo @Natura"
   ]
  },
  {
   "cell_type": "markdown",
   "metadata": {},
   "source": [
    "En este cuaderno vamos a abrir y explorar en que consiste la base de datos.\n",
    "\n",
    "Para ello vamos a importar pandas, matplotlib y signal."
   ]
  },
  {
   "cell_type": "code",
   "execution_count": 1,
   "metadata": {},
   "outputs": [],
   "source": [
    "import pandas as pd\n",
    "import matplotlib.pyplot as plt\n",
    "import scipy.signal as signal\n",
    "import numpy as np"
   ]
  },
  {
   "cell_type": "markdown",
   "metadata": {},
   "source": [
    "La base de datos, que se encuentra en el archivo \"MicSigV1_v1_1.json\", fue creada por el Instituto Geofísico de la Escuela Politécnica Nacional de Ecuador y cuenta con un catálogo de diferentes eventos sísmicos registrados en el volcán Cotopaxi. \n",
    "\n",
    "Solo tenemos permisos para su uso por lo que no podemos compartir el archivo con terceros.\n",
    "\n",
    "Vamos a leerlo."
   ]
  },
  {
   "cell_type": "code",
   "execution_count": 2,
   "metadata": {},
   "outputs": [
    {
     "data": {
      "text/html": [
       "<div>\n",
       "<style scoped>\n",
       "    .dataframe tbody tr th:only-of-type {\n",
       "        vertical-align: middle;\n",
       "    }\n",
       "\n",
       "    .dataframe tbody tr th {\n",
       "        vertical-align: top;\n",
       "    }\n",
       "\n",
       "    .dataframe thead th {\n",
       "        text-align: right;\n",
       "    }\n",
       "</style>\n",
       "<table border=\"1\" class=\"dataframe\">\n",
       "  <thead>\n",
       "    <tr style=\"text-align: right;\">\n",
       "      <th></th>\n",
       "      <th>Network</th>\n",
       "      <th>Station</th>\n",
       "      <th>SampleRate</th>\n",
       "      <th>Component</th>\n",
       "      <th>Year</th>\n",
       "      <th>Month</th>\n",
       "      <th>Type</th>\n",
       "      <th>Duration</th>\n",
       "      <th>StartPoint</th>\n",
       "      <th>EndPoint</th>\n",
       "      <th>Data</th>\n",
       "    </tr>\n",
       "  </thead>\n",
       "  <tbody>\n",
       "    <tr>\n",
       "      <th>0</th>\n",
       "      <td>EC</td>\n",
       "      <td>VC1</td>\n",
       "      <td>100</td>\n",
       "      <td>SHZ</td>\n",
       "      <td>2012</td>\n",
       "      <td>1</td>\n",
       "      <td>VT</td>\n",
       "      <td>23</td>\n",
       "      <td>1001</td>\n",
       "      <td>3301</td>\n",
       "      <td>[23.355529956093186, -26.21249638722304, 7.478...</td>\n",
       "    </tr>\n",
       "    <tr>\n",
       "      <th>1</th>\n",
       "      <td>EC</td>\n",
       "      <td>VC1</td>\n",
       "      <td>100</td>\n",
       "      <td>SHZ</td>\n",
       "      <td>2012</td>\n",
       "      <td>1</td>\n",
       "      <td>LP</td>\n",
       "      <td>47</td>\n",
       "      <td>1001</td>\n",
       "      <td>5701</td>\n",
       "      <td>[-9.39456702711197, 5.797439374378022, -23.901...</td>\n",
       "    </tr>\n",
       "    <tr>\n",
       "      <th>2</th>\n",
       "      <td>EC</td>\n",
       "      <td>VC1</td>\n",
       "      <td>100</td>\n",
       "      <td>SHZ</td>\n",
       "      <td>2012</td>\n",
       "      <td>1</td>\n",
       "      <td>LP</td>\n",
       "      <td>56</td>\n",
       "      <td>1001</td>\n",
       "      <td>6601</td>\n",
       "      <td>[-3.915706523024276, 0.420532668769778, -21.37...</td>\n",
       "    </tr>\n",
       "    <tr>\n",
       "      <th>3</th>\n",
       "      <td>EC</td>\n",
       "      <td>VC1</td>\n",
       "      <td>100</td>\n",
       "      <td>SHZ</td>\n",
       "      <td>2012</td>\n",
       "      <td>1</td>\n",
       "      <td>VT</td>\n",
       "      <td>49</td>\n",
       "      <td>1001</td>\n",
       "      <td>5901</td>\n",
       "      <td>[-2.5686254658527723, 23.91770870655175, -10.7...</td>\n",
       "    </tr>\n",
       "    <tr>\n",
       "      <th>4</th>\n",
       "      <td>EC</td>\n",
       "      <td>VC1</td>\n",
       "      <td>100</td>\n",
       "      <td>SHZ</td>\n",
       "      <td>2012</td>\n",
       "      <td>1</td>\n",
       "      <td>VT</td>\n",
       "      <td>31</td>\n",
       "      <td>1001</td>\n",
       "      <td>4101</td>\n",
       "      <td>[55.05791051352128, 41.33929940327658, -19.424...</td>\n",
       "    </tr>\n",
       "  </tbody>\n",
       "</table>\n",
       "</div>"
      ],
      "text/plain": [
       "  Network Station  SampleRate Component  Year  Month Type  Duration  \\\n",
       "0      EC     VC1         100       SHZ  2012      1   VT        23   \n",
       "1      EC     VC1         100       SHZ  2012      1   LP        47   \n",
       "2      EC     VC1         100       SHZ  2012      1   LP        56   \n",
       "3      EC     VC1         100       SHZ  2012      1   VT        49   \n",
       "4      EC     VC1         100       SHZ  2012      1   VT        31   \n",
       "\n",
       "   StartPoint  EndPoint                                               Data  \n",
       "0        1001      3301  [23.355529956093186, -26.21249638722304, 7.478...  \n",
       "1        1001      5701  [-9.39456702711197, 5.797439374378022, -23.901...  \n",
       "2        1001      6601  [-3.915706523024276, 0.420532668769778, -21.37...  \n",
       "3        1001      5901  [-2.5686254658527723, 23.91770870655175, -10.7...  \n",
       "4        1001      4101  [55.05791051352128, 41.33929940327658, -19.424...  "
      ]
     },
     "execution_count": 2,
     "metadata": {},
     "output_type": "execute_result"
    }
   ],
   "source": [
    "json_file = './dataset/MicSigV1_v1_1.json'\n",
    "df = pd.read_json(json_file)\n",
    "df.head()"
   ]
  },
  {
   "cell_type": "markdown",
   "metadata": {},
   "source": [
    "Network: la red sísmica;\n",
    "\n",
    "Station: el nombre de la estación sísmica; \n",
    "\n",
    "SampleRate: el tiempo de muestreo del digitalizador; \n",
    "\n",
    "Component es un conjunto de tres letras cuya última establece la dirección de medición. En este caso, Z es la dirección vertical del movimienti.\n",
    "\n",
    "Type: el tipo de evento sísmico\n",
    "\n",
    "StartPoint y EndPoint hace referencia al inicio y final del evento en la serie temporal que se encuentra en Data."
   ]
  },
  {
   "cell_type": "markdown",
   "metadata": {},
   "source": [
    "# Los eventos sísmicos"
   ]
  },
  {
   "cell_type": "code",
   "execution_count": 3,
   "metadata": {},
   "outputs": [
    {
     "name": "stdout",
     "output_type": "stream",
     "text": [
      "Nro. de eventos totales:  1187\n"
     ]
    },
    {
     "data": {
      "text/plain": [
       "LP          1044\n",
       "VT           101\n",
       "REGIONAL      27\n",
       "HB             8\n",
       "ICEQUAKE       7\n",
       "Name: Type, dtype: int64"
      ]
     },
     "execution_count": 3,
     "metadata": {},
     "output_type": "execute_result"
    }
   ],
   "source": [
    "types = df['Type']\n",
    "print('Nro. de eventos totales: ', len(df['Type']))\n",
    "types.value_counts()"
   ]
  },
  {
   "cell_type": "markdown",
   "metadata": {},
   "source": [
    "### Cada evento sísmico refleja un proceso de fuente diferente. Los VT son consecuencia de la ruptura frágil de la corteza, mientras que los LPs se debe a la agitación de un sistema que involucra fluido (ya sea fundido o agua)."
   ]
  },
  {
   "cell_type": "code",
   "execution_count": 4,
   "metadata": {},
   "outputs": [
    {
     "data": {
      "text/plain": [
       "(0.0, 10.0)"
      ]
     },
     "execution_count": 4,
     "metadata": {},
     "output_type": "execute_result"
    }
   ],
   "source": [
    "# representamos gráficament un LP\n",
    "LPs = df[types == 'LP']\n",
    "nro_LP = len(LPs)\n",
    "LP1 = LPs.iloc[0]\n",
    "\n",
    "# forma de onda\n",
    "LP_waveform = LP1.Data[LP1.StartPoint:LP1.EndPoint]\n",
    "N_points = len(LP_waveform)\n",
    "time = np.linspace(0, LP1.Duration, N_points)\n",
    "fig, (ax1, ax2) = plt.subplots(1, 2, figsize=(19, 3), gridspec_kw=dict(width_ratios=[10,3]))\n",
    "ax1.plot(time, LP_waveform, 'k', lw=0.9)\n",
    "ax1.set_ylabel('cuentas')\n",
    "ax1.set_xlabel('segundos')\n",
    "ax1.set_xlim(0, LP1.Duration)\n",
    "\n",
    "# PSD\n",
    "f, PSD = signal.welch(LP_waveform, LP1.SampleRate, nperseg=1024, scaling='density')\n",
    "ax2.plot(f, PSD, color='k')\n",
    "ax2.set_xlabel('frequency [Hz]')\n",
    "ax2.set_ylabel(r'PSD [cuentas$^2$/Hz]')\n",
    "ax2.grid()\n",
    "ax2.set_xlim(0, 10)"
   ]
  },
  {
   "cell_type": "markdown",
   "metadata": {},
   "source": [
    "# Planteando el problema"
   ]
  },
  {
   "cell_type": "markdown",
   "metadata": {},
   "source": [
    "No todas las señales LP son iguales"
   ]
  },
  {
   "cell_type": "code",
   "execution_count": 5,
   "metadata": {},
   "outputs": [],
   "source": [
    "fig, axes = plt.subplots(10, 2, figsize=(19, 20), gridspec_kw=dict(width_ratios=[10,3], hspace=0.5))\n",
    "for k in range(10):\n",
    "    i = np.random.randint(0, 1044)\n",
    "    LP_k = LPs.iloc[i]\n",
    "    LP_waveform = LP_k.Data[LP_k.StartPoint:LP_k.EndPoint]\n",
    "    N_points = len(LP_waveform)\n",
    "    time = np.linspace(0, LP_k.Duration, N_points)\n",
    "    axes[k][0].plot(time, LP_waveform, 'k', lw=0.9)\n",
    "    axes[k][0].set_ylabel(i)\n",
    "    axes[k][0].set_xlabel('segundos')\n",
    "    axes[k][0].set_xlim(0, LP_k.Duration)\n",
    "\n",
    "    nps = 1024\n",
    "    if N_points < nps:\n",
    "        nps = 512\n",
    "\n",
    "    f, PSD = signal.welch(LP_waveform, LP_k.SampleRate, nperseg=nps, scaling='density')\n",
    "    axes[k][1].plot(f, PSD, color='k')\n",
    "    axes[k][1].set_xlabel('freq. [Hz]')\n",
    "    axes[k][1].set_ylabel(r'PSD')\n",
    "    axes[k][1].grid()\n",
    "    axes[k][1].set_xlim(0, 10)"
   ]
  },
  {
   "cell_type": "markdown",
   "metadata": {},
   "source": [
    "# El objetivo del proyecto es: \n",
    "\n",
    "## diseñar un algortimo no-supervisado o semisupervisado a partir de features extraidos de las señales capaz de clasificar estos LP en subcategorias o subtipos"
   ]
  },
  {
   "cell_type": "code",
   "execution_count": null,
   "metadata": {},
   "outputs": [],
   "source": []
  }
 ],
 "metadata": {
  "interpreter": {
   "hash": "916dbcbb3f70747c44a77c7bcd40155683ae19c65e1c03b4aa3499c5328201f1"
  },
  "kernelspec": {
   "display_name": "Python 3",
   "language": "python",
   "name": "python3"
  },
  "language_info": {
   "codemirror_mode": {
    "name": "ipython",
    "version": 3
   },
   "file_extension": ".py",
   "mimetype": "text/x-python",
   "name": "python",
   "nbconvert_exporter": "python",
   "pygments_lexer": "ipython3",
   "version": "3.8.11"
  }
 },
 "nbformat": 4,
 "nbformat_minor": 4
}
