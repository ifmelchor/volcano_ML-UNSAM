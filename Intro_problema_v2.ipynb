{
 "cells": [
  {
   "cell_type": "markdown",
   "metadata": {},
   "source": [
    " # Proyecto Volcano\n",
    " \n",
    " Datos obtenidos del grupo @Natura??"
   ]
  },
  {
   "cell_type": "markdown",
   "metadata": {},
   "source": [
    "## Análisis exploratorio de los datos\n",
    "\n",
    "En este cuaderno vamos a abrir y explorar en que consiste la base de datos.\n",
    "\n",
    "Para ello, comenzamos importamos las bibliotecas que necesitaremos más adelante: pandas, numpy, pyploy (en matplotlib) y signal (en scipy)."
   ]
  },
  {
   "cell_type": "code",
   "execution_count": 1,
   "metadata": {},
   "outputs": [],
   "source": [
    "import pandas as pd\n",
    "import numpy as np\n",
    "import matplotlib.pyplot as plt\n",
    "import scipy.signal as signal"
   ]
  },
  {
   "cell_type": "markdown",
   "metadata": {},
   "source": [
    "La base de datos, que se encuentra en el archivo \"MicSigV1_v1_1.json\", que utilizamos a continuación, fue conformada por el Instituto Geofísico de la Escuela Politécnica Nacional de Ecuador. Estos datos corresponden a un catálogo de diferentes eventos sísmicos registrados en el volcán Cotopaxi.\n",
    "\n",
    "Como solo contamos con permiso para uso académico, no podemos compartir el archivo con terceros.\n",
    "\n",
    "Entonces, leemos el archivo y hacemos una primera inspección de la serie de datos."
   ]
  },
  {
   "cell_type": "code",
   "execution_count": 2,
   "metadata": {},
   "outputs": [
    {
     "data": {
      "text/html": [
       "<div>\n",
       "<style scoped>\n",
       "    .dataframe tbody tr th:only-of-type {\n",
       "        vertical-align: middle;\n",
       "    }\n",
       "\n",
       "    .dataframe tbody tr th {\n",
       "        vertical-align: top;\n",
       "    }\n",
       "\n",
       "    .dataframe thead th {\n",
       "        text-align: right;\n",
       "    }\n",
       "</style>\n",
       "<table border=\"1\" class=\"dataframe\">\n",
       "  <thead>\n",
       "    <tr style=\"text-align: right;\">\n",
       "      <th></th>\n",
       "      <th>Network</th>\n",
       "      <th>Station</th>\n",
       "      <th>SampleRate</th>\n",
       "      <th>Component</th>\n",
       "      <th>Year</th>\n",
       "      <th>Month</th>\n",
       "      <th>Type</th>\n",
       "      <th>Duration</th>\n",
       "      <th>StartPoint</th>\n",
       "      <th>EndPoint</th>\n",
       "      <th>Data</th>\n",
       "    </tr>\n",
       "  </thead>\n",
       "  <tbody>\n",
       "    <tr>\n",
       "      <th>0</th>\n",
       "      <td>EC</td>\n",
       "      <td>VC1</td>\n",
       "      <td>100</td>\n",
       "      <td>SHZ</td>\n",
       "      <td>2012</td>\n",
       "      <td>1</td>\n",
       "      <td>VT</td>\n",
       "      <td>23</td>\n",
       "      <td>1001</td>\n",
       "      <td>3301</td>\n",
       "      <td>[23.355529956093186, -26.21249638722304, 7.478...</td>\n",
       "    </tr>\n",
       "    <tr>\n",
       "      <th>1</th>\n",
       "      <td>EC</td>\n",
       "      <td>VC1</td>\n",
       "      <td>100</td>\n",
       "      <td>SHZ</td>\n",
       "      <td>2012</td>\n",
       "      <td>1</td>\n",
       "      <td>LP</td>\n",
       "      <td>47</td>\n",
       "      <td>1001</td>\n",
       "      <td>5701</td>\n",
       "      <td>[-9.39456702711197, 5.797439374378022, -23.901...</td>\n",
       "    </tr>\n",
       "    <tr>\n",
       "      <th>2</th>\n",
       "      <td>EC</td>\n",
       "      <td>VC1</td>\n",
       "      <td>100</td>\n",
       "      <td>SHZ</td>\n",
       "      <td>2012</td>\n",
       "      <td>1</td>\n",
       "      <td>LP</td>\n",
       "      <td>56</td>\n",
       "      <td>1001</td>\n",
       "      <td>6601</td>\n",
       "      <td>[-3.915706523024276, 0.420532668769778, -21.37...</td>\n",
       "    </tr>\n",
       "    <tr>\n",
       "      <th>3</th>\n",
       "      <td>EC</td>\n",
       "      <td>VC1</td>\n",
       "      <td>100</td>\n",
       "      <td>SHZ</td>\n",
       "      <td>2012</td>\n",
       "      <td>1</td>\n",
       "      <td>VT</td>\n",
       "      <td>49</td>\n",
       "      <td>1001</td>\n",
       "      <td>5901</td>\n",
       "      <td>[-2.5686254658527723, 23.91770870655175, -10.7...</td>\n",
       "    </tr>\n",
       "    <tr>\n",
       "      <th>4</th>\n",
       "      <td>EC</td>\n",
       "      <td>VC1</td>\n",
       "      <td>100</td>\n",
       "      <td>SHZ</td>\n",
       "      <td>2012</td>\n",
       "      <td>1</td>\n",
       "      <td>VT</td>\n",
       "      <td>31</td>\n",
       "      <td>1001</td>\n",
       "      <td>4101</td>\n",
       "      <td>[55.05791051352128, 41.33929940327658, -19.424...</td>\n",
       "    </tr>\n",
       "  </tbody>\n",
       "</table>\n",
       "</div>"
      ],
      "text/plain": [
       "  Network Station  SampleRate Component  Year  Month Type  Duration  \\\n",
       "0      EC     VC1         100       SHZ  2012      1   VT        23   \n",
       "1      EC     VC1         100       SHZ  2012      1   LP        47   \n",
       "2      EC     VC1         100       SHZ  2012      1   LP        56   \n",
       "3      EC     VC1         100       SHZ  2012      1   VT        49   \n",
       "4      EC     VC1         100       SHZ  2012      1   VT        31   \n",
       "\n",
       "   StartPoint  EndPoint                                               Data  \n",
       "0        1001      3301  [23.355529956093186, -26.21249638722304, 7.478...  \n",
       "1        1001      5701  [-9.39456702711197, 5.797439374378022, -23.901...  \n",
       "2        1001      6601  [-3.915706523024276, 0.420532668769778, -21.37...  \n",
       "3        1001      5901  [-2.5686254658527723, 23.91770870655175, -10.7...  \n",
       "4        1001      4101  [55.05791051352128, 41.33929940327658, -19.424...  "
      ]
     },
     "execution_count": 2,
     "metadata": {},
     "output_type": "execute_result"
    }
   ],
   "source": [
    "json_file = './dataset/MicSigV1_v1_1.json'\n",
    "sism_events = pd.read_json(json_file)\n",
    "# Mostramos el DataFrame con las primeros 5 filas, para tener una primera idea\n",
    "sism_events.head(5)"
   ]
  },
  {
   "cell_type": "markdown",
   "metadata": {
    "tags": []
   },
   "source": [
    "Una breve descripción de las columnas que componen el DataFrame.\n",
    "\n",
    "* **Network:** red sísmica;\n",
    "* **Station:** nombre de la estación sísmica,\n",
    "* **SampleRate:** cantidad de datos del digitalizador por unidad de tiempo (segundos);\n",
    "* **Component:** conjunto de tres letras cuya última establece la dirección de medición. En este caso, Z indica la dirección vertical del movimiento.\n",
    "* **Type:** tipo de evento sísmico;\n",
    "* **Duration:** duración del evento, desde StartPoint hasta EndPoint, en segundos;\n",
    "* **StartPoint:** inicio del evento en de la serie temporal del conjunto de datos (Data); > ¿por defecto siempre descarta los primeros 1000 puntos?\n",
    "* **EndPoint:** fin del evento en de la serie temporal del conjunto de datos (Data);\n",
    "* **Data:** conjunto de datos."
   ]
  },
  {
   "cell_type": "markdown",
   "metadata": {},
   "source": [
    "Los datos de mayor interés, son los grupos de datos que se encuentran en **Data**.\n",
    "Todas nuestras columnas, o variables, parecen ser categóricas, salvo por Data.\n",
    "Intentamos sacar información adicional, del resto de las columnas. Por ejemplo, cuantas redes y estaciones sísmicas hay."
   ]
  },
  {
   "cell_type": "code",
   "execution_count": 3,
   "metadata": {},
   "outputs": [
    {
     "data": {
      "text/plain": [
       "EC    1187\n",
       "Name: Network, dtype: int64"
      ]
     },
     "execution_count": 3,
     "metadata": {},
     "output_type": "execute_result"
    }
   ],
   "source": [
    "sism_events.Network.value_counts()"
   ]
  },
  {
   "cell_type": "code",
   "execution_count": 4,
   "metadata": {},
   "outputs": [
    {
     "data": {
      "text/plain": [
       "BREF    706\n",
       "VC1     481\n",
       "Name: Station, dtype: int64"
      ]
     },
     "execution_count": 4,
     "metadata": {},
     "output_type": "execute_result"
    }
   ],
   "source": [
    "sism_events.Station.value_counts()"
   ]
  },
  {
   "cell_type": "markdown",
   "metadata": {},
   "source": [
    "Bien, contamos con un tipo de red sísmica (lo cual nos dice nada, se podría descartar) y dos estaciones sísmicas.\n",
    "Ahora, veamos los tipos de componentes."
   ]
  },
  {
   "cell_type": "code",
   "execution_count": 5,
   "metadata": {},
   "outputs": [
    {
     "data": {
      "text/plain": [
       "BHZ    706\n",
       "SHZ    481\n",
       "Name: Component, dtype: int64"
      ]
     },
     "execution_count": 5,
     "metadata": {},
     "output_type": "execute_result"
    }
   ],
   "source": [
    "sism_events.Component.value_counts()"
   ]
  },
  {
   "cell_type": "markdown",
   "metadata": {},
   "source": [
    "Por último, tenemos los eventos sísmicos."
   ]
  },
  {
   "cell_type": "code",
   "execution_count": 6,
   "metadata": {},
   "outputs": [
    {
     "name": "stdout",
     "output_type": "stream",
     "text": [
      "Nro. de eventos totales:  1187\n"
     ]
    },
    {
     "data": {
      "text/plain": [
       "LP          1044\n",
       "VT           101\n",
       "REGIONAL      27\n",
       "HB             8\n",
       "ICEQUAKE       7\n",
       "Name: Type, dtype: int64"
      ]
     },
     "execution_count": 6,
     "metadata": {},
     "output_type": "execute_result"
    }
   ],
   "source": [
    "print('Nro. de eventos totales: ', len(sism_events.Type))\n",
    "sism_events.Type.value_counts()"
   ]
  },
  {
   "cell_type": "markdown",
   "metadata": {},
   "source": [
    "Cada evento sísmico refleja un proceso con origen en distintos tipos de fuente. Los sismos más destacados, en actividad volcánica, son:\n",
    "\n",
    "**VT (volcano-tectonic):** son consecuencia de la ruptura frágil de la corteza;\n",
    "**LP (long period):** se deben a la agitación de un sistema que involucra un fluido.\n",
    "\n",
    "Quedemonos con los sismos tipos LP, que son los mayoritarios, y grafiquemos un conjunto de datos."
   ]
  },
  {
   "cell_type": "code",
   "execution_count": 7,
   "metadata": {},
   "outputs": [],
   "source": [
    "# Nuestro nuevo DataFrame, con solo eventos tipo LP\n",
    "LP_events = sism_events[sism_events.Type == 'LP']\n",
    "\n",
    "# N° de filas de LP_events\n",
    "n_LP = len(LP_events)\n",
    "\n",
    "# Otra forma, dimension\n",
    "#dim_LP = LP_events.shape\n",
    "\n",
    "# Nos quedamos con el primer evento\n",
    "LP1 = LP_events.iloc[0]"
   ]
  },
  {
   "cell_type": "code",
   "execution_count": 8,
   "metadata": {},
   "outputs": [
    {
     "data": {
      "text/plain": [
       "(0.0, 10.0)"
      ]
     },
     "execution_count": 8,
     "metadata": {},
     "output_type": "execute_result"
    },
    {
     "data": {
      "image/png": "[encoded data removed]",
      "text/plain": [
       "<Figure size 1368x216 with 2 Axes>"
      ]
     },
     "metadata": {
      "needs_background": "light"
     },
     "output_type": "display_data"
    }
   ],
   "source": [
    "# forma de onda\n",
    "LP_waveform = LP1.Data[LP1.StartPoint:LP1.EndPoint]\n",
    "\n",
    "N_points = len(LP_waveform)\n",
    "\n",
    "\n",
    "# To plot pretty figures\n",
    "%matplotlib inline\n",
    "import matplotlib as mpl\n",
    "import matplotlib.pyplot as plt\n",
    "%matplotlib inline\n",
    "mpl.rc('axes', labelsize=14)\n",
    "mpl.rc('xtick', labelsize=12)\n",
    "mpl.rc('ytick', labelsize=12)\n",
    "\n",
    "time = np.linspace(0, LP1.Duration, N_points)\n",
    "fig, (ax1, ax2) = plt.subplots(1, 2, figsize=(19, 3), gridspec_kw=dict(width_ratios=[10,3]))\n",
    "\n",
    "ax1.plot(time, LP_waveform, 'k', lw=0.9)\n",
    "ax1.set_ylabel('cuentas')\n",
    "ax1.set_xlabel('segundos')\n",
    "ax1.set_xlim(0, LP1.Duration)\n",
    "\n",
    "# PSD\n",
    "f, PSD = signal.welch(LP_waveform, LP1.SampleRate, nperseg=1024, scaling='density')\n",
    "ax2.plot(f, PSD, color='k')\n",
    "ax2.set_xlabel('frequency [Hz]')\n",
    "ax2.set_ylabel(r'PSD [cuentas$^2$/Hz]')\n",
    "ax2.grid()\n",
    "ax2.set_xlim(0, 10)"
   ]
  },
  {
   "cell_type": "markdown",
   "metadata": {},
   "source": [
    "## Planteando el problema"
   ]
  },
  {
   "cell_type": "markdown",
   "metadata": {},
   "source": [
    "No todas las señales LP son iguales"
   ]
  },
  {
   "cell_type": "code",
   "execution_count": 9,
   "metadata": {},
   "outputs": [
    {
     "ename": "NameError",
     "evalue": "name 'LPs' is not defined",
     "output_type": "error",
     "traceback": [
      "\u001b[1;31m---------------------------------------------------------------------------\u001b[0m",
      "\u001b[1;31mNameError\u001b[0m                                 Traceback (most recent call last)",
      "\u001b[1;32m<ipython-input-9-2bfb0fd2f80f>\u001b[0m in \u001b[0;36m<module>\u001b[1;34m\u001b[0m\n\u001b[0;32m      1\u001b[0m \u001b[0mfig\u001b[0m\u001b[1;33m,\u001b[0m \u001b[0maxes\u001b[0m \u001b[1;33m=\u001b[0m \u001b[0mplt\u001b[0m\u001b[1;33m.\u001b[0m\u001b[0msubplots\u001b[0m\u001b[1;33m(\u001b[0m\u001b[1;36m3\u001b[0m\u001b[1;33m,\u001b[0m \u001b[1;36m2\u001b[0m\u001b[1;33m,\u001b[0m \u001b[0mfigsize\u001b[0m\u001b[1;33m=\u001b[0m\u001b[1;33m(\u001b[0m\u001b[1;36m19\u001b[0m\u001b[1;33m,\u001b[0m \u001b[1;36m3\u001b[0m\u001b[1;33m)\u001b[0m\u001b[1;33m,\u001b[0m \u001b[0mgridspec_kw\u001b[0m\u001b[1;33m=\u001b[0m\u001b[0mdict\u001b[0m\u001b[1;33m(\u001b[0m\u001b[0mwidth_ratios\u001b[0m\u001b[1;33m=\u001b[0m\u001b[1;33m[\u001b[0m\u001b[1;36m10\u001b[0m\u001b[1;33m,\u001b[0m\u001b[1;36m3\u001b[0m\u001b[1;33m]\u001b[0m\u001b[1;33m,\u001b[0m \u001b[0mhspace\u001b[0m\u001b[1;33m=\u001b[0m\u001b[1;36m0.5\u001b[0m\u001b[1;33m)\u001b[0m\u001b[1;33m)\u001b[0m\u001b[1;33m\u001b[0m\u001b[1;33m\u001b[0m\u001b[0m\n\u001b[0;32m      2\u001b[0m \u001b[1;32mfor\u001b[0m \u001b[0mk\u001b[0m \u001b[1;32min\u001b[0m \u001b[0mrange\u001b[0m\u001b[1;33m(\u001b[0m\u001b[1;36m3\u001b[0m\u001b[1;33m)\u001b[0m\u001b[1;33m:\u001b[0m\u001b[1;33m\u001b[0m\u001b[1;33m\u001b[0m\u001b[0m\n\u001b[1;32m----> 3\u001b[1;33m     \u001b[0mLP_k\u001b[0m \u001b[1;33m=\u001b[0m \u001b[0mLPs\u001b[0m\u001b[1;33m.\u001b[0m\u001b[0miloc\u001b[0m\u001b[1;33m[\u001b[0m\u001b[0mnp\u001b[0m\u001b[1;33m.\u001b[0m\u001b[0mrandom\u001b[0m\u001b[1;33m.\u001b[0m\u001b[0mrandint\u001b[0m\u001b[1;33m(\u001b[0m\u001b[1;36m0\u001b[0m\u001b[1;33m,\u001b[0m \u001b[1;36m1044\u001b[0m\u001b[1;33m)\u001b[0m\u001b[1;33m]\u001b[0m\u001b[1;33m\u001b[0m\u001b[1;33m\u001b[0m\u001b[0m\n\u001b[0m\u001b[0;32m      4\u001b[0m     \u001b[0mLP_waveform\u001b[0m \u001b[1;33m=\u001b[0m \u001b[0mLP_k\u001b[0m\u001b[1;33m.\u001b[0m\u001b[0mData\u001b[0m\u001b[1;33m[\u001b[0m\u001b[0mLP_k\u001b[0m\u001b[1;33m.\u001b[0m\u001b[0mStartPoint\u001b[0m\u001b[1;33m:\u001b[0m\u001b[0mLP_k\u001b[0m\u001b[1;33m.\u001b[0m\u001b[0mEndPoint\u001b[0m\u001b[1;33m]\u001b[0m\u001b[1;33m\u001b[0m\u001b[1;33m\u001b[0m\u001b[0m\n\u001b[0;32m      5\u001b[0m     \u001b[0mN_points\u001b[0m \u001b[1;33m=\u001b[0m \u001b[0mlen\u001b[0m\u001b[1;33m(\u001b[0m\u001b[0mLP_waveform\u001b[0m\u001b[1;33m)\u001b[0m\u001b[1;33m\u001b[0m\u001b[1;33m\u001b[0m\u001b[0m\n",
      "\u001b[1;31mNameError\u001b[0m: name 'LPs' is not defined"
     ]
    },
    {
     "data": {
      "image/png": "[encoded data removed]",
      "text/plain": [
       "<Figure size 1368x216 with 6 Axes>"
      ]
     },
     "metadata": {
      "needs_background": "light"
     },
     "output_type": "display_data"
    }
   ],
   "source": [
    "fig, axes = plt.subplots(3, 2, figsize=(19, 3), gridspec_kw=dict(width_ratios=[10,3], hspace=0.5))\n",
    "for k in range(3):\n",
    "    LP_k = LPs.iloc[np.random.randint(0, 1044)]\n",
    "    LP_waveform = LP_k.Data[LP_k.StartPoint:LP_k.EndPoint]\n",
    "    N_points = len(LP_waveform)\n",
    "    time = np.linspace(0, LP_k.Duration, N_points)\n",
    "    axes[k][0].plot(time, LP_waveform, 'k', lw=0.9)\n",
    "    axes[k][0].set_ylabel('cuentas')\n",
    "    axes[k][0].set_xlabel('segundos')\n",
    "    axes[k][0].set_xlim(0, LP_k.Duration)\n",
    "\n",
    "    nps = 1024\n",
    "    if N_points < nps:\n",
    "        nps = 512\n",
    "\n",
    "    f, PSD = signal.welch(LP_waveform, LP_k.SampleRate, nperseg=nps, scaling='density')\n",
    "    axes[k][1].plot(f, PSD, color='k')\n",
    "    axes[k][1].set_xlabel('freq. [Hz]')\n",
    "    axes[k][1].set_ylabel(r'PSD')\n",
    "    axes[k][1].grid()\n",
    "    axes[k][1].set_xlim(0, 10)"
   ]
  },
  {
   "cell_type": "markdown",
   "metadata": {},
   "source": [
    "Clasificando manualmente, en subgrupos a partir de un análisis visual."
   ]
  },
  {
   "cell_type": "code",
   "execution_count": null,
   "metadata": {},
   "outputs": [],
   "source": []
  },
  {
   "cell_type": "markdown",
   "metadata": {},
   "source": [
    "## El objetivo del proyecto es: \n",
    "\n",
    "Diseñar un algortimo no-supervisado o semisupervisado a partir de features extraidos de las señales capaz de clasificar estos LP en subcategorias o subtipos"
   ]
  },
  {
   "cell_type": "code",
   "execution_count": null,
   "metadata": {},
   "outputs": [],
   "source": []
  }
 ],
 "metadata": {
  "interpreter": {
   "hash": "916dbcbb3f70747c44a77c7bcd40155683ae19c65e1c03b4aa3499c5328201f1"
  },
  "kernelspec": {
   "display_name": "Python 3",
   "language": "python",
   "name": "python3"
  },
  "language_info": {
   "codemirror_mode": {
    "name": "ipython",
    "version": 3
   },
   "file_extension": ".py",
   "mimetype": "text/x-python",
   "name": "python",
   "nbconvert_exporter": "python",
   "pygments_lexer": "ipython3",
   "version": "3.8.11"
  }
 },
 "nbformat": 4,
 "nbformat_minor": 4
}
